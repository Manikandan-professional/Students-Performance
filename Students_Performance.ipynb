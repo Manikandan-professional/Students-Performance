{
  "nbformat": 4,
  "nbformat_minor": 0,
  "metadata": {
    "colab": {
      "name": "Students Performance.ipynb",
      "provenance": [],
      "authorship_tag": "ABX9TyO4p+totYQ849N3d5zQSVA3",
      "include_colab_link": true
    },
    "kernelspec": {
      "name": "python3",
      "display_name": "Python 3"
    },
    "language_info": {
      "name": "python"
    }
  },
  "cells": [
    {
      "cell_type": "markdown",
      "metadata": {
        "id": "view-in-github",
        "colab_type": "text"
      },
      "source": [
        "<a href=\"https://colab.research.google.com/github/Manikandan-professional/Students-Performance/blob/main/Students_Performance.ipynb\" target=\"_parent\"><img src=\"https://colab.research.google.com/assets/colab-badge.svg\" alt=\"Open In Colab\"/></a>"
      ]
    },
    {
      "cell_type": "code",
      "source": [
        "import pandas as pd\n",
        "import numpy as np\n",
        "import matplotlib.pyplot as plt"
      ],
      "metadata": {
        "id": "ueZQCFNqWv-F"
      },
      "execution_count": null,
      "outputs": []
    },
    {
      "cell_type": "code",
      "execution_count": null,
      "metadata": {
        "colab": {
          "base_uri": "https://localhost:8080/",
          "height": 424
        },
        "id": "63BwP_G8Ee6i",
        "outputId": "d03abb62-496e-4727-fe89-c2d70cff0630"
      },
      "outputs": [
        {
          "output_type": "execute_result",
          "data": {
            "text/html": [
              "<div>\n",
              "<style scoped>\n",
              "    .dataframe tbody tr th:only-of-type {\n",
              "        vertical-align: middle;\n",
              "    }\n",
              "\n",
              "    .dataframe tbody tr th {\n",
              "        vertical-align: top;\n",
              "    }\n",
              "\n",
              "    .dataframe thead th {\n",
              "        text-align: right;\n",
              "    }\n",
              "</style>\n",
              "<table border=\"1\" class=\"dataframe\">\n",
              "  <thead>\n",
              "    <tr style=\"text-align: right;\">\n",
              "      <th></th>\n",
              "      <th>gender</th>\n",
              "      <th>race/ethnicity</th>\n",
              "      <th>parental level of education</th>\n",
              "      <th>lunch</th>\n",
              "      <th>test preparation course</th>\n",
              "      <th>math score</th>\n",
              "      <th>reading score</th>\n",
              "      <th>writing score</th>\n",
              "    </tr>\n",
              "  </thead>\n",
              "  <tbody>\n",
              "    <tr>\n",
              "      <th>0</th>\n",
              "      <td>female</td>\n",
              "      <td>group B</td>\n",
              "      <td>bachelor's degree</td>\n",
              "      <td>standard</td>\n",
              "      <td>none</td>\n",
              "      <td>72</td>\n",
              "      <td>72</td>\n",
              "      <td>74</td>\n",
              "    </tr>\n",
              "    <tr>\n",
              "      <th>1</th>\n",
              "      <td>female</td>\n",
              "      <td>group C</td>\n",
              "      <td>some college</td>\n",
              "      <td>standard</td>\n",
              "      <td>completed</td>\n",
              "      <td>69</td>\n",
              "      <td>90</td>\n",
              "      <td>88</td>\n",
              "    </tr>\n",
              "    <tr>\n",
              "      <th>2</th>\n",
              "      <td>female</td>\n",
              "      <td>group B</td>\n",
              "      <td>master's degree</td>\n",
              "      <td>standard</td>\n",
              "      <td>none</td>\n",
              "      <td>90</td>\n",
              "      <td>95</td>\n",
              "      <td>93</td>\n",
              "    </tr>\n",
              "    <tr>\n",
              "      <th>3</th>\n",
              "      <td>male</td>\n",
              "      <td>group A</td>\n",
              "      <td>associate's degree</td>\n",
              "      <td>free/reduced</td>\n",
              "      <td>none</td>\n",
              "      <td>47</td>\n",
              "      <td>57</td>\n",
              "      <td>44</td>\n",
              "    </tr>\n",
              "    <tr>\n",
              "      <th>4</th>\n",
              "      <td>male</td>\n",
              "      <td>group C</td>\n",
              "      <td>some college</td>\n",
              "      <td>standard</td>\n",
              "      <td>none</td>\n",
              "      <td>76</td>\n",
              "      <td>78</td>\n",
              "      <td>75</td>\n",
              "    </tr>\n",
              "    <tr>\n",
              "      <th>...</th>\n",
              "      <td>...</td>\n",
              "      <td>...</td>\n",
              "      <td>...</td>\n",
              "      <td>...</td>\n",
              "      <td>...</td>\n",
              "      <td>...</td>\n",
              "      <td>...</td>\n",
              "      <td>...</td>\n",
              "    </tr>\n",
              "    <tr>\n",
              "      <th>995</th>\n",
              "      <td>female</td>\n",
              "      <td>group E</td>\n",
              "      <td>master's degree</td>\n",
              "      <td>standard</td>\n",
              "      <td>completed</td>\n",
              "      <td>88</td>\n",
              "      <td>99</td>\n",
              "      <td>95</td>\n",
              "    </tr>\n",
              "    <tr>\n",
              "      <th>996</th>\n",
              "      <td>male</td>\n",
              "      <td>group C</td>\n",
              "      <td>high school</td>\n",
              "      <td>free/reduced</td>\n",
              "      <td>none</td>\n",
              "      <td>62</td>\n",
              "      <td>55</td>\n",
              "      <td>55</td>\n",
              "    </tr>\n",
              "    <tr>\n",
              "      <th>997</th>\n",
              "      <td>female</td>\n",
              "      <td>group C</td>\n",
              "      <td>high school</td>\n",
              "      <td>free/reduced</td>\n",
              "      <td>completed</td>\n",
              "      <td>59</td>\n",
              "      <td>71</td>\n",
              "      <td>65</td>\n",
              "    </tr>\n",
              "    <tr>\n",
              "      <th>998</th>\n",
              "      <td>female</td>\n",
              "      <td>group D</td>\n",
              "      <td>some college</td>\n",
              "      <td>standard</td>\n",
              "      <td>completed</td>\n",
              "      <td>68</td>\n",
              "      <td>78</td>\n",
              "      <td>77</td>\n",
              "    </tr>\n",
              "    <tr>\n",
              "      <th>999</th>\n",
              "      <td>female</td>\n",
              "      <td>group D</td>\n",
              "      <td>some college</td>\n",
              "      <td>free/reduced</td>\n",
              "      <td>none</td>\n",
              "      <td>77</td>\n",
              "      <td>86</td>\n",
              "      <td>86</td>\n",
              "    </tr>\n",
              "  </tbody>\n",
              "</table>\n",
              "<p>1000 rows × 8 columns</p>\n",
              "</div>"
            ],
            "text/plain": [
              "     gender race/ethnicity  ... reading score writing score\n",
              "0    female        group B  ...            72            74\n",
              "1    female        group C  ...            90            88\n",
              "2    female        group B  ...            95            93\n",
              "3      male        group A  ...            57            44\n",
              "4      male        group C  ...            78            75\n",
              "..      ...            ...  ...           ...           ...\n",
              "995  female        group E  ...            99            95\n",
              "996    male        group C  ...            55            55\n",
              "997  female        group C  ...            71            65\n",
              "998  female        group D  ...            78            77\n",
              "999  female        group D  ...            86            86\n",
              "\n",
              "[1000 rows x 8 columns]"
            ]
          },
          "metadata": {},
          "execution_count": 45
        }
      ],
      "source": [
        "a='https://raw.githubusercontent.com/Manikandan-professional/Datasets/main/StudentsPerformance.csv'\n",
        "df=pd.DataFrame(pd.read_csv(a))\n",
        "df\n"
      ]
    },
    {
      "cell_type": "code",
      "source": [
        "df.isnull().sum()"
      ],
      "metadata": {
        "colab": {
          "base_uri": "https://localhost:8080/"
        },
        "id": "hAhe01-zqZJa",
        "outputId": "4d070c72-e859-4df0-cf5f-23f7b50cd4b1"
      },
      "execution_count": 75,
      "outputs": [
        {
          "output_type": "execute_result",
          "data": {
            "text/plain": [
              "gender                         0\n",
              "race/ethnicity                 0\n",
              "parental level of education    0\n",
              "lunch                          0\n",
              "test preparation course        0\n",
              "math score                     0\n",
              "reading score                  0\n",
              "writing score                  0\n",
              "dtype: int64"
            ]
          },
          "metadata": {},
          "execution_count": 75
        }
      ]
    },
    {
      "cell_type": "code",
      "source": [
        "df.columns"
      ],
      "metadata": {
        "colab": {
          "base_uri": "https://localhost:8080/"
        },
        "id": "gu6HpGYxXVza",
        "outputId": "4967a2bc-6787-4c18-d768-175160c0650f"
      },
      "execution_count": null,
      "outputs": [
        {
          "output_type": "execute_result",
          "data": {
            "text/plain": [
              "Index(['gender', 'race/ethnicity', 'parental level of education', 'lunch',\n",
              "       'test preparation course', 'math score', 'reading score',\n",
              "       'writing score'],\n",
              "      dtype='object')"
            ]
          },
          "metadata": {},
          "execution_count": 46
        }
      ]
    },
    {
      "cell_type": "code",
      "source": [
        "df.describe().T"
      ],
      "metadata": {
        "colab": {
          "base_uri": "https://localhost:8080/",
          "height": 143
        },
        "id": "uYD7RUwQXalK",
        "outputId": "9b4c3d5a-02a1-46e9-ba14-1dd315a16ea6"
      },
      "execution_count": null,
      "outputs": [
        {
          "output_type": "execute_result",
          "data": {
            "text/html": [
              "<div>\n",
              "<style scoped>\n",
              "    .dataframe tbody tr th:only-of-type {\n",
              "        vertical-align: middle;\n",
              "    }\n",
              "\n",
              "    .dataframe tbody tr th {\n",
              "        vertical-align: top;\n",
              "    }\n",
              "\n",
              "    .dataframe thead th {\n",
              "        text-align: right;\n",
              "    }\n",
              "</style>\n",
              "<table border=\"1\" class=\"dataframe\">\n",
              "  <thead>\n",
              "    <tr style=\"text-align: right;\">\n",
              "      <th></th>\n",
              "      <th>count</th>\n",
              "      <th>mean</th>\n",
              "      <th>std</th>\n",
              "      <th>min</th>\n",
              "      <th>25%</th>\n",
              "      <th>50%</th>\n",
              "      <th>75%</th>\n",
              "      <th>max</th>\n",
              "    </tr>\n",
              "  </thead>\n",
              "  <tbody>\n",
              "    <tr>\n",
              "      <th>math score</th>\n",
              "      <td>1000.0</td>\n",
              "      <td>66.089</td>\n",
              "      <td>15.163080</td>\n",
              "      <td>0.0</td>\n",
              "      <td>57.00</td>\n",
              "      <td>66.0</td>\n",
              "      <td>77.0</td>\n",
              "      <td>100.0</td>\n",
              "    </tr>\n",
              "    <tr>\n",
              "      <th>reading score</th>\n",
              "      <td>1000.0</td>\n",
              "      <td>69.169</td>\n",
              "      <td>14.600192</td>\n",
              "      <td>17.0</td>\n",
              "      <td>59.00</td>\n",
              "      <td>70.0</td>\n",
              "      <td>79.0</td>\n",
              "      <td>100.0</td>\n",
              "    </tr>\n",
              "    <tr>\n",
              "      <th>writing score</th>\n",
              "      <td>1000.0</td>\n",
              "      <td>68.054</td>\n",
              "      <td>15.195657</td>\n",
              "      <td>10.0</td>\n",
              "      <td>57.75</td>\n",
              "      <td>69.0</td>\n",
              "      <td>79.0</td>\n",
              "      <td>100.0</td>\n",
              "    </tr>\n",
              "  </tbody>\n",
              "</table>\n",
              "</div>"
            ],
            "text/plain": [
              "                count    mean        std   min    25%   50%   75%    max\n",
              "math score     1000.0  66.089  15.163080   0.0  57.00  66.0  77.0  100.0\n",
              "reading score  1000.0  69.169  14.600192  17.0  59.00  70.0  79.0  100.0\n",
              "writing score  1000.0  68.054  15.195657  10.0  57.75  69.0  79.0  100.0"
            ]
          },
          "metadata": {},
          "execution_count": 47
        }
      ]
    },
    {
      "cell_type": "code",
      "source": [
        "df_male=df[df['gender']=='male']\n",
        "df_male=df_male.reset_index()\n",
        "df_male=df_male.drop(columns=['index'],axis=1)"
      ],
      "metadata": {
        "id": "VXVT7G4oXmEE"
      },
      "execution_count": null,
      "outputs": []
    },
    {
      "cell_type": "code",
      "source": [
        "df_female=df[df['gender']=='female']\n",
        "df_female=df_female.reset_index()\n",
        "df_female=df_female.drop(columns=['index'],axis=1)"
      ],
      "metadata": {
        "id": "QojH5j2HXmBM"
      },
      "execution_count": null,
      "outputs": []
    },
    {
      "cell_type": "code",
      "source": [
        "df_male.head()"
      ],
      "metadata": {
        "colab": {
          "base_uri": "https://localhost:8080/",
          "height": 206
        },
        "id": "sdnKBb3yXl-k",
        "outputId": "e6f9f921-f713-4d92-c5d0-c67d39095f83"
      },
      "execution_count": null,
      "outputs": [
        {
          "output_type": "execute_result",
          "data": {
            "text/html": [
              "<div>\n",
              "<style scoped>\n",
              "    .dataframe tbody tr th:only-of-type {\n",
              "        vertical-align: middle;\n",
              "    }\n",
              "\n",
              "    .dataframe tbody tr th {\n",
              "        vertical-align: top;\n",
              "    }\n",
              "\n",
              "    .dataframe thead th {\n",
              "        text-align: right;\n",
              "    }\n",
              "</style>\n",
              "<table border=\"1\" class=\"dataframe\">\n",
              "  <thead>\n",
              "    <tr style=\"text-align: right;\">\n",
              "      <th></th>\n",
              "      <th>gender</th>\n",
              "      <th>race/ethnicity</th>\n",
              "      <th>parental level of education</th>\n",
              "      <th>lunch</th>\n",
              "      <th>test preparation course</th>\n",
              "      <th>math score</th>\n",
              "      <th>reading score</th>\n",
              "      <th>writing score</th>\n",
              "    </tr>\n",
              "  </thead>\n",
              "  <tbody>\n",
              "    <tr>\n",
              "      <th>0</th>\n",
              "      <td>male</td>\n",
              "      <td>group A</td>\n",
              "      <td>associate's degree</td>\n",
              "      <td>free/reduced</td>\n",
              "      <td>none</td>\n",
              "      <td>47</td>\n",
              "      <td>57</td>\n",
              "      <td>44</td>\n",
              "    </tr>\n",
              "    <tr>\n",
              "      <th>1</th>\n",
              "      <td>male</td>\n",
              "      <td>group C</td>\n",
              "      <td>some college</td>\n",
              "      <td>standard</td>\n",
              "      <td>none</td>\n",
              "      <td>76</td>\n",
              "      <td>78</td>\n",
              "      <td>75</td>\n",
              "    </tr>\n",
              "    <tr>\n",
              "      <th>2</th>\n",
              "      <td>male</td>\n",
              "      <td>group B</td>\n",
              "      <td>some college</td>\n",
              "      <td>free/reduced</td>\n",
              "      <td>none</td>\n",
              "      <td>40</td>\n",
              "      <td>43</td>\n",
              "      <td>39</td>\n",
              "    </tr>\n",
              "    <tr>\n",
              "      <th>3</th>\n",
              "      <td>male</td>\n",
              "      <td>group D</td>\n",
              "      <td>high school</td>\n",
              "      <td>free/reduced</td>\n",
              "      <td>completed</td>\n",
              "      <td>64</td>\n",
              "      <td>64</td>\n",
              "      <td>67</td>\n",
              "    </tr>\n",
              "    <tr>\n",
              "      <th>4</th>\n",
              "      <td>male</td>\n",
              "      <td>group C</td>\n",
              "      <td>associate's degree</td>\n",
              "      <td>standard</td>\n",
              "      <td>none</td>\n",
              "      <td>58</td>\n",
              "      <td>54</td>\n",
              "      <td>52</td>\n",
              "    </tr>\n",
              "  </tbody>\n",
              "</table>\n",
              "</div>"
            ],
            "text/plain": [
              "  gender race/ethnicity  ... reading score writing score\n",
              "0   male        group A  ...            57            44\n",
              "1   male        group C  ...            78            75\n",
              "2   male        group B  ...            43            39\n",
              "3   male        group D  ...            64            67\n",
              "4   male        group C  ...            54            52\n",
              "\n",
              "[5 rows x 8 columns]"
            ]
          },
          "metadata": {},
          "execution_count": 50
        }
      ]
    },
    {
      "cell_type": "code",
      "source": [
        "col=(df_male.columns)\n",
        "l=['math score',\t'reading score',\t'writing score']\n",
        "for i in range(0,len(col),1):\n",
        "  if col[i] not in l:\n",
        "    print('-->',col[i])\n",
        "    print(df_male[col[i]].value_counts())\n",
        "\n",
        "    print('**************')\n"
      ],
      "metadata": {
        "colab": {
          "base_uri": "https://localhost:8080/"
        },
        "id": "pl25_iDnbh96",
        "outputId": "db937cb3-e5c6-4c34-a1a9-a1b6888e0f12"
      },
      "execution_count": 73,
      "outputs": [
        {
          "output_type": "stream",
          "name": "stdout",
          "text": [
            "--> gender\n",
            "male    482\n",
            "Name: gender, dtype: int64\n",
            "**************\n",
            "--> race/ethnicity\n",
            "group C    139\n",
            "group D    133\n",
            "group B     86\n",
            "group E     71\n",
            "group A     53\n",
            "Name: race/ethnicity, dtype: int64\n",
            "**************\n",
            "--> parental level of education\n",
            "some college          108\n",
            "associate's degree    106\n",
            "high school           102\n",
            "some high school       88\n",
            "bachelor's degree      55\n",
            "master's degree        23\n",
            "Name: parental level of education, dtype: int64\n",
            "**************\n",
            "--> lunch\n",
            "standard        316\n",
            "free/reduced    166\n",
            "Name: lunch, dtype: int64\n",
            "**************\n",
            "--> test preparation course\n",
            "none         308\n",
            "completed    174\n",
            "Name: test preparation course, dtype: int64\n",
            "**************\n"
          ]
        }
      ]
    },
    {
      "cell_type": "code",
      "source": [
        "df_female.head()"
      ],
      "metadata": {
        "colab": {
          "base_uri": "https://localhost:8080/",
          "height": 206
        },
        "id": "QrTE0GfAXl7d",
        "outputId": "4fc20a0b-1f26-4204-8ffe-591945b3b12a"
      },
      "execution_count": null,
      "outputs": [
        {
          "output_type": "execute_result",
          "data": {
            "text/html": [
              "<div>\n",
              "<style scoped>\n",
              "    .dataframe tbody tr th:only-of-type {\n",
              "        vertical-align: middle;\n",
              "    }\n",
              "\n",
              "    .dataframe tbody tr th {\n",
              "        vertical-align: top;\n",
              "    }\n",
              "\n",
              "    .dataframe thead th {\n",
              "        text-align: right;\n",
              "    }\n",
              "</style>\n",
              "<table border=\"1\" class=\"dataframe\">\n",
              "  <thead>\n",
              "    <tr style=\"text-align: right;\">\n",
              "      <th></th>\n",
              "      <th>gender</th>\n",
              "      <th>race/ethnicity</th>\n",
              "      <th>parental level of education</th>\n",
              "      <th>lunch</th>\n",
              "      <th>test preparation course</th>\n",
              "      <th>math score</th>\n",
              "      <th>reading score</th>\n",
              "      <th>writing score</th>\n",
              "    </tr>\n",
              "  </thead>\n",
              "  <tbody>\n",
              "    <tr>\n",
              "      <th>0</th>\n",
              "      <td>female</td>\n",
              "      <td>group B</td>\n",
              "      <td>bachelor's degree</td>\n",
              "      <td>standard</td>\n",
              "      <td>none</td>\n",
              "      <td>72</td>\n",
              "      <td>72</td>\n",
              "      <td>74</td>\n",
              "    </tr>\n",
              "    <tr>\n",
              "      <th>1</th>\n",
              "      <td>female</td>\n",
              "      <td>group C</td>\n",
              "      <td>some college</td>\n",
              "      <td>standard</td>\n",
              "      <td>completed</td>\n",
              "      <td>69</td>\n",
              "      <td>90</td>\n",
              "      <td>88</td>\n",
              "    </tr>\n",
              "    <tr>\n",
              "      <th>2</th>\n",
              "      <td>female</td>\n",
              "      <td>group B</td>\n",
              "      <td>master's degree</td>\n",
              "      <td>standard</td>\n",
              "      <td>none</td>\n",
              "      <td>90</td>\n",
              "      <td>95</td>\n",
              "      <td>93</td>\n",
              "    </tr>\n",
              "    <tr>\n",
              "      <th>3</th>\n",
              "      <td>female</td>\n",
              "      <td>group B</td>\n",
              "      <td>associate's degree</td>\n",
              "      <td>standard</td>\n",
              "      <td>none</td>\n",
              "      <td>71</td>\n",
              "      <td>83</td>\n",
              "      <td>78</td>\n",
              "    </tr>\n",
              "    <tr>\n",
              "      <th>4</th>\n",
              "      <td>female</td>\n",
              "      <td>group B</td>\n",
              "      <td>some college</td>\n",
              "      <td>standard</td>\n",
              "      <td>completed</td>\n",
              "      <td>88</td>\n",
              "      <td>95</td>\n",
              "      <td>92</td>\n",
              "    </tr>\n",
              "  </tbody>\n",
              "</table>\n",
              "</div>"
            ],
            "text/plain": [
              "   gender race/ethnicity  ... reading score writing score\n",
              "0  female        group B  ...            72            74\n",
              "1  female        group C  ...            90            88\n",
              "2  female        group B  ...            95            93\n",
              "3  female        group B  ...            83            78\n",
              "4  female        group B  ...            95            92\n",
              "\n",
              "[5 rows x 8 columns]"
            ]
          },
          "metadata": {},
          "execution_count": 51
        }
      ]
    },
    {
      "cell_type": "code",
      "source": [
        "col=(df_female.columns)\n",
        "l=['math score',\t'reading score',\t'writing score']\n",
        "for i in range(0,len(col),1):\n",
        "  if col[i] not in l:\n",
        "    print('-->',col[i])\n",
        "    print(df_female[col[i]].value_counts())\n",
        "\n",
        "    print('**************')\n"
      ],
      "metadata": {
        "id": "4kY56yvZXl40",
        "colab": {
          "base_uri": "https://localhost:8080/"
        },
        "outputId": "ec7ae7d0-c77e-4da4-b63f-25990326f439"
      },
      "execution_count": 74,
      "outputs": [
        {
          "output_type": "stream",
          "name": "stdout",
          "text": [
            "--> gender\n",
            "female    518\n",
            "Name: gender, dtype: int64\n",
            "**************\n",
            "--> race/ethnicity\n",
            "group C    180\n",
            "group D    129\n",
            "group B    104\n",
            "group E     69\n",
            "group A     36\n",
            "Name: race/ethnicity, dtype: int64\n",
            "**************\n",
            "--> parental level of education\n",
            "some college          118\n",
            "associate's degree    116\n",
            "high school            94\n",
            "some high school       91\n",
            "bachelor's degree      63\n",
            "master's degree        36\n",
            "Name: parental level of education, dtype: int64\n",
            "**************\n",
            "--> lunch\n",
            "standard        329\n",
            "free/reduced    189\n",
            "Name: lunch, dtype: int64\n",
            "**************\n",
            "--> test preparation course\n",
            "none         334\n",
            "completed    184\n",
            "Name: test preparation course, dtype: int64\n",
            "**************\n"
          ]
        }
      ]
    },
    {
      "cell_type": "code",
      "source": [
        "a_dictionary = {'a':df_male,'b':df_female}\n",
        "ll=['a','b']\n",
        "score_average_male=[]\n",
        "score_average_female=[]\n",
        "for i in range(0,2,1):\n",
        "  print('Average Math Score in is:',round(np.mean(a_dictionary[ll[i]]['math score']),3))\n",
        "  print('Average Reading Score in  is:',round(np.mean(a_dictionary[ll[i]]['reading score']),3))\n",
        "  print('Average writing score in  is:',round(np.mean(a_dictionary[ll[i]]['writing score']),3))\n",
        "  if i==0:\n",
        "    score_average_male.append(round(np.mean(a_dictionary[ll[i]]['math score']),3))\n",
        "    score_average_male.append(round(np.mean(a_dictionary[ll[i]]['reading score']),3))\n",
        "    score_average_male.append(round(np.mean(a_dictionary[ll[i]]['writing score']),3))\n",
        "  else:\n",
        "    score_average_female.append(round(np.mean(a_dictionary[ll[i]]['math score']),3))\n",
        "    score_average_female.append(round(np.mean(a_dictionary[ll[i]]['reading score']),3))\n",
        "    score_average_female.append(round(np.mean(a_dictionary[ll[i]]['writing score']),3))\n",
        "  print('**********')"
      ],
      "metadata": {
        "id": "cw2hlbRqXl2L",
        "colab": {
          "base_uri": "https://localhost:8080/"
        },
        "outputId": "e4a1f48c-063a-434d-f05b-89b0e5731108"
      },
      "execution_count": 149,
      "outputs": [
        {
          "output_type": "stream",
          "name": "stdout",
          "text": [
            "Average Math Score in is: 68.728\n",
            "Average Reading Score in  is: 65.473\n",
            "Average writing score in  is: 63.311\n",
            "**********\n",
            "Average Math Score in is: 63.633\n",
            "Average Reading Score in  is: 72.608\n",
            "Average writing score in  is: 72.467\n",
            "**********\n"
          ]
        }
      ]
    },
    {
      "cell_type": "code",
      "source": [
        "print(score_average_male)\n",
        "print(score_average_female)\n",
        "lll=[0,1,2]"
      ],
      "metadata": {
        "id": "S8YamrZMXlua",
        "colab": {
          "base_uri": "https://localhost:8080/"
        },
        "outputId": "7e8a892b-d6cd-489b-9570-e991cbd23680"
      },
      "execution_count": 152,
      "outputs": [
        {
          "output_type": "stream",
          "name": "stdout",
          "text": [
            "[68.728, 65.473, 63.311]\n",
            "[63.633, 72.608, 72.467]\n"
          ]
        }
      ]
    },
    {
      "cell_type": "code",
      "source": [
        "plt.figure(figsize=(16,8),dpi=80)\n",
        "plt.barh(lll,score_average_male)\n",
        "\n",
        "plt.show()"
      ],
      "metadata": {
        "id": "ejZ5GHbNXlr-",
        "colab": {
          "base_uri": "https://localhost:8080/",
          "height": 533
        },
        "outputId": "22b82539-4aa0-46ea-a130-5a4a212ccda4"
      },
      "execution_count": 154,
      "outputs": [
        {
          "output_type": "display_data",
          "data": {
            "image/png": "[encoded data removed]",
            "text/plain": [
              "<Figure size 1280x640 with 1 Axes>"
            ]
          },
          "metadata": {
            "needs_background": "light"
          }
        }
      ]
    },
    {
      "cell_type": "code",
      "source": [
        ""
      ],
      "metadata": {
        "id": "h5kKxAspXlpT"
      },
      "execution_count": null,
      "outputs": []
    },
    {
      "cell_type": "markdown",
      "source": [
        "![Thankyousomuch.jpg](data:image/jpeg;base64,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)"
      ],
      "metadata": {
        "id": "vV5LjNjVXRDz"
      }
    }
  ]
}